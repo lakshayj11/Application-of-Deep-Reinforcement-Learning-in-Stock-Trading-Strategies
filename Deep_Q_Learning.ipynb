{
  "nbformat": 4,
  "nbformat_minor": 5,
  "metadata": {
    "kernelspec": {
      "display_name": "Python 3",
      "language": "python",
      "name": "python3"
    },
    "language_info": {
      "codemirror_mode": {
        "name": "ipython",
        "version": 3
      },
      "file_extension": ".py",
      "mimetype": "text/x-python",
      "name": "python",
      "nbconvert_exporter": "python",
      "pygments_lexer": "ipython3",
      "version": "3.8.8"
    },
    "colab": {
      "name": "Deep Q-Learning.ipynb",
      "provenance": [],
      "collapsed_sections": [],
      "include_colab_link": true
    },
    "accelerator": "GPU"
  },
  "cells": [
    {
      "cell_type": "markdown",
      "metadata": {
        "id": "view-in-github",
        "colab_type": "text"
      },
      "source": [
        "<a href=\"https://colab.research.google.com/github/lakshayj11/Stock-Prediction-Using-Q-Learning/blob/main/Deep_Q_Learning.ipynb\" target=\"_parent\"><img src=\"https://colab.research.google.com/assets/colab-badge.svg\" alt=\"Open In Colab\"/></a>"
      ]
    },
    {
      "cell_type": "markdown",
      "metadata": {
        "id": "d6fff24a-6a70-4ff2-85c0-067116e7527c"
      },
      "source": [
        "# Predicting Stock Price using Deep Q-Networks"
      ],
      "id": "d6fff24a-6a70-4ff2-85c0-067116e7527c"
    },
    {
      "cell_type": "markdown",
      "metadata": {
        "id": "4495b755-6ea2-43cb-ab5e-a5ff1d71e924"
      },
      "source": [
        "## Importing Libraries"
      ],
      "id": "4495b755-6ea2-43cb-ab5e-a5ff1d71e924"
    },
    {
      "cell_type": "code",
      "metadata": {
        "id": "98326f94-ba19-4814-8dfc-c9657185ee85"
      },
      "source": [
        "import pandas as pd\n",
        "import numpy as np\n",
        "import matplotlib.pyplot as plt\n",
        "\n",
        "import tensorflow as tf\n",
        "from tensorflow import keras\n",
        "from keras import layers, Input\n",
        "from keras.optimizers import Adam\n",
        "from sklearn.preprocessing import MinMaxScaler\n",
        "\n",
        "from collections import deque\n",
        "import random"
      ],
      "id": "98326f94-ba19-4814-8dfc-c9657185ee85",
      "execution_count": null,
      "outputs": []
    },
    {
      "cell_type": "markdown",
      "metadata": {
        "id": "0cec4a1f-9117-4acd-a38a-8f25799a15bf"
      },
      "source": [
        "## Importing Data"
      ],
      "id": "0cec4a1f-9117-4acd-a38a-8f25799a15bf"
    },
    {
      "cell_type": "code",
      "metadata": {
        "id": "ba812b99-3c30-4f19-90f3-0e443fd09436"
      },
      "source": [
        "powergrid = pd.read_csv('POWERGRID.csv')\n",
        "maruti = pd.read_csv('MARUTI.csv')\n",
        "bajajfinsv = pd.read_csv('BAJAJFINSV.csv')\n",
        "\n",
        "powergrid.name = 'Powergrid'\n",
        "maruti.name = 'Maruti'\n",
        "bajajfinsv.name = 'Bajaj Finserv'\n",
        "\n",
        "stocks = [powergrid, maruti, bajajfinsv]"
      ],
      "id": "ba812b99-3c30-4f19-90f3-0e443fd09436",
      "execution_count": null,
      "outputs": []
    },
    {
      "cell_type": "markdown",
      "metadata": {
        "id": "7d45c90a-876e-440a-ab97-f39b351c4a2e"
      },
      "source": [
        "## Visualizing Data"
      ],
      "id": "7d45c90a-876e-440a-ab97-f39b351c4a2e"
    },
    {
      "cell_type": "code",
      "metadata": {
        "id": "25750161-dd07-4ade-b9c1-915c620f1f4e"
      },
      "source": [
        "for stock in stocks:\n",
        "    \n",
        "    stock['Date'] = pd.to_datetime(stock.Date,format='%Y-%m-%d')\n",
        "#     f = plt.figure()\n",
        "#     f.set_figwidth(20)\n",
        "#     f.set_figheight(10)\n",
        "\n",
        "#     plt.scatter(stock['Date'], stock['Adj Close']) # To visualize individual points\n",
        "#     plt.plot(stock['Date'], stock['Adj Close'])\n",
        "    \n",
        "#     plt.title(stock.name)\n",
        "#     plt.ylabel('Stock Closing Price')\n",
        "#     plt.xlabel('Date')\n",
        "#     plt.show()"
      ],
      "id": "25750161-dd07-4ade-b9c1-915c620f1f4e",
      "execution_count": null,
      "outputs": []
    },
    {
      "cell_type": "markdown",
      "metadata": {
        "id": "dfb3d0dd-8a1e-417c-b2c2-6f4b20182322"
      },
      "source": [
        "## Feature Selection"
      ],
      "id": "dfb3d0dd-8a1e-417c-b2c2-6f4b20182322"
    },
    {
      "cell_type": "code",
      "metadata": {
        "id": "afbdcdb8-33a2-40c7-b280-f4c0ee419f82"
      },
      "source": [
        "scaler = MinMaxScaler()\n",
        "for stock in stocks:\n",
        "    \n",
        "    stock[['Open_Scaled', 'High_Scaled', 'Low_Scaled', 'Close_Scaled', 'Volume_Scaled', 'Adj_Close_Scaled']] = scaler.fit_transform(\n",
        "        stock[['Open', 'High', 'Low', 'Close', 'Volume', 'Adj Close']])\n",
        "    \n",
        "    stock['7MA'] = stock.iloc[:, 12].rolling(window=7).mean()\n",
        "    stock['14MA'] = stock.iloc[:, 12].rolling(window=14).mean()\n",
        "    stock['21MA'] = stock.iloc[:, 12].rolling(window=21).mean()\n",
        "    stock['7SD'] = stock.iloc[:, 12].rolling(window=7).std()\n",
        "\n",
        "    stock.dropna(inplace=True)\n",
        "\n",
        "features = ['Open_Scaled', 'High_Scaled', 'Low_Scaled', 'Close_Scaled','Adj_Close_Scaled', 'Adj Close', 'Volume_Scaled', '7MA', '14MA', '21MA', '7SD']\n",
        "\n",
        "predict = 'Adj Close'\n",
        "\n"
      ],
      "id": "afbdcdb8-33a2-40c7-b280-f4c0ee419f82",
      "execution_count": null,
      "outputs": []
    },
    {
      "cell_type": "markdown",
      "metadata": {
        "id": "b4696d51-81cd-4059-97a2-c49b04148ad5"
      },
      "source": [
        "## Test-Train Split"
      ],
      "id": "b4696d51-81cd-4059-97a2-c49b04148ad5"
    },
    {
      "cell_type": "code",
      "metadata": {
        "id": "7e1e7a6a-f70d-43e6-90ab-0365bdc25149"
      },
      "source": [
        "train_powergrid = powergrid[:2223]\n",
        "test_powergrid = powergrid[2223:]\n",
        "test_powergrid.name = powergrid.name\n",
        "\n",
        "train_maruti = maruti[:2223]\n",
        "test_maruti = maruti[2223:]\n",
        "test_maruti.name = maruti.name\n",
        "\n",
        "train_bajajfinsv = bajajfinsv[:2223]\n",
        "test_bajajfinsv = bajajfinsv[2223:]\n",
        "test_bajajfinsv.name = bajajfinsv.name\n",
        "\n",
        "train_test = [[train_powergrid, test_powergrid], [train_maruti, test_maruti], [train_bajajfinsv, test_bajajfinsv]]"
      ],
      "id": "7e1e7a6a-f70d-43e6-90ab-0365bdc25149",
      "execution_count": null,
      "outputs": []
    },
    {
      "cell_type": "markdown",
      "metadata": {
        "id": "0df5316e-8ee0-4b32-8a1a-5b8163e6792a"
      },
      "source": [
        "## Fixing Hyperparameters"
      ],
      "id": "0df5316e-8ee0-4b32-8a1a-5b8163e6792a"
    },
    {
      "cell_type": "code",
      "metadata": {
        "id": "54ea5c4a-71d4-455e-be3c-cd949cd72735"
      },
      "source": [
        "EPSILON = 1\n",
        "EPSILON_DECAY = 0.995\n",
        "EPSILON_MIN = 0.01\n",
        "\n",
        "DISCOUNT = 0.95\n",
        "\n",
        "LEARNING_RATE = 0.03\n",
        "REPLAY_SIZE = 5000\n",
        "BATCH_SIZE = 16\n",
        "\n",
        "MAX_TRANSACTIONS = 20\n",
        "INITIAL_CAPITAL = 10_00_000\n",
        "\n",
        "MIN_SIZE = 250\n",
        "TARGET_UPDATE_THRESHOLD = 100"
      ],
      "id": "54ea5c4a-71d4-455e-be3c-cd949cd72735",
      "execution_count": null,
      "outputs": []
    },
    {
      "cell_type": "markdown",
      "metadata": {
        "id": "1dcb96d1-4d4c-4f8d-b58a-f94749bcd950"
      },
      "source": [
        "## Creating model"
      ],
      "id": "1dcb96d1-4d4c-4f8d-b58a-f94749bcd950"
    },
    {
      "cell_type": "code",
      "metadata": {
        "id": "85e83ecb-4d67-4420-bf51-944d249f16c2"
      },
      "source": [
        "class TradingAgent:\n",
        "    \n",
        "    def __init__(self, epsilon = 1, learning_rate = 0.01, epsilon_min = 0.01, epsilon_decline = 0.98, discount = 0.95,\n",
        "                 batch_size = 64, replay_size = 500, money = 10_00_000, max_transactions = 10,\n",
        "                target_update_threshold = 32, min_size = 500):\n",
        "        \n",
        "        # Create Replay Memory\n",
        "        self.replay = deque(maxlen = replay_size)\n",
        "        \n",
        "        # Exploration\n",
        "        self.epsilon = epsilon\n",
        "        self.epsilon_min = epsilon_min\n",
        "        self.epsilon_decline = epsilon_decline\n",
        "        \n",
        "        self.state_size = len(features) + 2\n",
        "        self.action_space = 3\n",
        "        self.learning_rate = learning_rate\n",
        "        self.discount = discount\n",
        "        self.batch_size = batch_size\n",
        "        self.min_size = min_size\n",
        "        \n",
        "        # Money and Transaction \n",
        "        self.inventory = []\n",
        "        self.money = money\n",
        "        self.max_transactions = max_transactions\n",
        "        \n",
        "        # Main Network\n",
        "        self.model = self.create_model()\n",
        "        \n",
        "        # Target Network\n",
        "        self.target = self.create_model()\n",
        "        self.target.set_weights(self.model.get_weights())\n",
        "        \n",
        "        # Update Target Network Weights\n",
        "        self.target_update = 0\n",
        "        self.target_update_threshold = target_update_threshold\n",
        "        \n",
        "    def create_model(self):\n",
        "        \n",
        "        \n",
        "        model = keras.Sequential()\n",
        "        \n",
        "        model.add(layers.Dense(8, activation='relu', input_shape=(1, self.state_size))),\n",
        "        # model.add(layers.Dense(16, activation='relu')),\n",
        "        # model.add(layers.Dense(8, activation='relu')),\n",
        "        model.add(layers.Dense(3, activation='linear'))\n",
        "        \n",
        "        model.compile(optimizer=Adam(learning_rate=self.learning_rate), loss='mse')\n",
        "        \n",
        "        model.build(input_shape=(1, self.state_size))\n",
        "        \n",
        "        return model\n",
        "    \n",
        "    \n",
        "    # Transition = (State, Action, Reward, New State)\n",
        "    def update_replay_memory(self, transition):\n",
        "        self.replay.append(transition)\n",
        "    \n",
        "    \n",
        "    \n",
        "    def action(self, state):\n",
        "        if (random.random() < self.epsilon):\n",
        "            return random.randrange(0, self.action_space)\n",
        "        else:\n",
        "            return np.argmax(self.model.predict(state))\n",
        "    \n",
        "    \n",
        "    \n",
        "    \n",
        "    # Current_state = (Open_Scaled, High_Scaled, Low_Scaled, Close_Scaled, Adj_Close_Scaled, Adj Close, Volume,\n",
        "    # Moving Average 7, Moving Average 14, Moving Average 21, Standard Deviation 7, Number of stock batches, Money)\n",
        "    def buy(self, state):\n",
        "        \n",
        "        if (state[-1] > state[5]):      # Buy if you have money\n",
        "            Num_stocks = min(self.max_transactions, int(state[-1]/state[5]))\n",
        "            self.money -= Num_stocks * state[5]\n",
        "            self.inventory.append([Num_stocks, state[5]])\n",
        "            \n",
        "            return 5                    # Used money to buy stocks\n",
        "        \n",
        "        else:\n",
        "            return -1                   # Trying to buy without money\n",
        "        \n",
        "        if (state[-2] > 0):\n",
        "            reward = 0\n",
        "            for quantity, cost in self.inventory:\n",
        "                reward += quantity\n",
        "\n",
        "            if (reward > self.max_transactions * 10):     #If already have a lot of stocks\n",
        "                return -1\n",
        "        \n",
        "        return -1                       # Don't have money and haven't bought stocks\n",
        "    \n",
        "    # Sell all the stocks and get reward = profit/loss\n",
        "    def sell(self, state):\n",
        "        if (state[-2] == 0):    # I have no stocks and still try to sell\n",
        "            return -10\n",
        "            \n",
        "        reward = 0\n",
        "        \n",
        "        for quantity, cost in self.inventory:\n",
        "            reward += quantity * (state[5] - cost)        # Profit/loss\n",
        "            self.money += quantity * (state[5])           # Money gained from selling\n",
        "        \n",
        "        self.inventory.clear()                            # Clear stock inventory\n",
        "        return reward\n",
        "\n",
        "    \n",
        "    \n",
        "    # Do nothing to stocks\n",
        "    def hold(self, state):\n",
        "        if (state[-2] == 0 and (state[4] > (state[9] + state[8]) / 2)):    # Might have been a good buying/selling opportunity\n",
        "            return -1\n",
        "        \n",
        "        else:\n",
        "            return 0\n",
        "    \n",
        "    \n",
        "    \n",
        "    \n",
        "    # Train the network on replay memory\n",
        "    def train(self):\n",
        "        \n",
        "        if (len(self.replay) < self.min_size):  # If the replay memory size is less than minimum permissible value then return\n",
        "            return\n",
        "        \n",
        "        minibatch = random.sample(self.replay, self.batch_size)\n",
        "        \n",
        "        current_states = np.array([transistion[0] for transistion in minibatch])\n",
        "        current_q_list = self.model.predict(current_states)\n",
        "        \n",
        "        new_states = np.array([transistion[3] for transistion in minibatch])\n",
        "        future_q_list = self.target.predict(new_states)\n",
        "        \n",
        "        X = []\n",
        "        Y = []\n",
        "        \n",
        "        for index, (current_state, action, reward, new_state) in enumerate(minibatch):\n",
        "            \n",
        "            max_future_q = np.max(future_q_list[index])\n",
        "            new_q = reward + self.discount * max_future_q\n",
        "            \n",
        "            current_q = current_q_list[index]\n",
        "            current_q[action] = new_q\n",
        "            \n",
        "            X.append(current_state)\n",
        "            Y.append(current_q)\n",
        "        \n",
        "        self.model.fit(np.array(X), np.array(Y), batch_size = self.batch_size, verbose=False)\n",
        "            \n",
        "        self.target_update += 1\n",
        "        \n",
        "        # Update Target Network Weights\n",
        "        if (self.target_update > self.target_update_threshold):\n",
        "            self.target.set_weights(self.model.get_weights())\n",
        "            self.target_update = 0\n"
      ],
      "id": "85e83ecb-4d67-4420-bf51-944d249f16c2",
      "execution_count": null,
      "outputs": []
    },
    {
      "cell_type": "markdown",
      "metadata": {
        "id": "9851bddc-6748-47d3-ba89-870c4e98dbfc"
      },
      "source": [
        "## Training the agent"
      ],
      "id": "9851bddc-6748-47d3-ba89-870c4e98dbfc"
    },
    {
      "cell_type": "code",
      "metadata": {
        "colab": {
          "base_uri": "https://localhost:8080/",
          "height": 375
        },
        "id": "ea1c8c86-b05e-4b92-ba94-d4f8d68b3b82",
        "outputId": "40f189e2-2ca8-41ff-e740-c1a15f4b8159"
      },
      "source": [
        "agent = TradingAgent(epsilon = EPSILON, learning_rate = LEARNING_RATE, epsilon_min = EPSILON_MIN, epsilon_decline = EPSILON_DECAY, discount = DISCOUNT,\n",
        "                 batch_size = BATCH_SIZE, replay_size = REPLAY_SIZE, money = INITIAL_CAPITAL, max_transactions = MAX_TRANSACTIONS,\n",
        "                target_update_threshold = TARGET_UPDATE_THRESHOLD, min_size = MIN_SIZE)\n",
        "\n",
        "\n",
        "EPISODES = 15\n",
        "CLEAR_EVERY = 2\n",
        "\n",
        "states = np.array(train_bajajfinsv[features])\n",
        "prices = np.array(train_bajajfinsv[predict])\n",
        "\n",
        "code = {0:'b', 1:'g', 2:'r'}\n",
        "action_list = []\n",
        "\n",
        "\n",
        "for episode in range(0, EPISODES):\n",
        "    \n",
        "    \n",
        "    if (episode % CLEAR_EVERY == 0):\n",
        "      agent.replay.clear()\n",
        "\n",
        "    agent.target.set_weights(agent.model.get_weights())\n",
        "    agent.epsilon = EPSILON\n",
        "    \n",
        "    for idx in range(0, len(states)-1):\n",
        "        \n",
        "        curr_state = np.append(states[idx], [len(agent.inventory), agent.money])\n",
        "        \n",
        "        #Select a greedy or random action\n",
        "        action = agent.action(curr_state.reshape(-1, agent.state_size))          \n",
        "        \n",
        "        # Perform action\n",
        "        \n",
        "        if (action == 0):\n",
        "            reward = agent.buy(curr_state)\n",
        "        elif (action == 1):\n",
        "            reward = agent.sell(curr_state)\n",
        "        else:\n",
        "            reward = agent.hold(curr_state)\n",
        "        \n",
        "        action_list.append(action)\n",
        "        \n",
        "        if (agent.epsilon < agent.epsilon_min):\n",
        "            agent.epsilon = agent.epsilon_min\n",
        "        else:\n",
        "            agent.epsilon *= agent.epsilon_decline\n",
        "        # Add that (state, action, reward, new_state) tuple to replay memory\n",
        "        \n",
        "        new_state = np.append(states[idx+1], [len(agent.inventory), agent.money])\n",
        "        agent.update_replay_memory((curr_state, action, reward, new_state))\n",
        "        \n",
        "        agent.train()\n",
        "    \n",
        "    plt.figure(figsize=(10,10))\n",
        "    plt.title(episode)\n",
        "    plt.scatter(maruti['Date'][:-1], prices[:-1], color = [code[i] for i in action_list])\n",
        "    plt.show()\n",
        "    \n",
        "    action_list.clear()\n",
        "    \n",
        "        \n"
      ],
      "id": "ea1c8c86-b05e-4b92-ba94-d4f8d68b3b82",
      "execution_count": null,
      "outputs": [
        {
          "output_type": "error",
          "ename": "KeyboardInterrupt",
          "evalue": "ignored",
          "traceback": [
            "\u001b[0;31m---------------------------------------------------------------------------\u001b[0m",
            "\u001b[0;31mKeyboardInterrupt\u001b[0m                         Traceback (most recent call last)",
            "\u001b[0;32m<ipython-input-8-fb261d429504>\u001b[0m in \u001b[0;36m<module>\u001b[0;34m()\u001b[0m\n\u001b[1;32m     50\u001b[0m         \u001b[0magent\u001b[0m\u001b[0;34m.\u001b[0m\u001b[0mupdate_replay_memory\u001b[0m\u001b[0;34m(\u001b[0m\u001b[0;34m(\u001b[0m\u001b[0mcurr_state\u001b[0m\u001b[0;34m,\u001b[0m \u001b[0maction\u001b[0m\u001b[0;34m,\u001b[0m \u001b[0mreward\u001b[0m\u001b[0;34m,\u001b[0m \u001b[0mnew_state\u001b[0m\u001b[0;34m)\u001b[0m\u001b[0;34m)\u001b[0m\u001b[0;34m\u001b[0m\u001b[0;34m\u001b[0m\u001b[0m\n\u001b[1;32m     51\u001b[0m \u001b[0;34m\u001b[0m\u001b[0m\n\u001b[0;32m---> 52\u001b[0;31m         \u001b[0magent\u001b[0m\u001b[0;34m.\u001b[0m\u001b[0mtrain\u001b[0m\u001b[0;34m(\u001b[0m\u001b[0;34m)\u001b[0m\u001b[0;34m\u001b[0m\u001b[0;34m\u001b[0m\u001b[0m\n\u001b[0m\u001b[1;32m     53\u001b[0m \u001b[0;34m\u001b[0m\u001b[0m\n\u001b[1;32m     54\u001b[0m     \u001b[0mplt\u001b[0m\u001b[0;34m.\u001b[0m\u001b[0mfigure\u001b[0m\u001b[0;34m(\u001b[0m\u001b[0mfigsize\u001b[0m\u001b[0;34m=\u001b[0m\u001b[0;34m(\u001b[0m\u001b[0;36m10\u001b[0m\u001b[0;34m,\u001b[0m\u001b[0;36m10\u001b[0m\u001b[0;34m)\u001b[0m\u001b[0;34m)\u001b[0m\u001b[0;34m\u001b[0m\u001b[0;34m\u001b[0m\u001b[0m\n",
            "\u001b[0;32m<ipython-input-7-e9d505ce58af>\u001b[0m in \u001b[0;36mtrain\u001b[0;34m(self)\u001b[0m\n\u001b[1;32m    147\u001b[0m             \u001b[0mY\u001b[0m\u001b[0;34m.\u001b[0m\u001b[0mappend\u001b[0m\u001b[0;34m(\u001b[0m\u001b[0mcurrent_q\u001b[0m\u001b[0;34m)\u001b[0m\u001b[0;34m\u001b[0m\u001b[0;34m\u001b[0m\u001b[0m\n\u001b[1;32m    148\u001b[0m \u001b[0;34m\u001b[0m\u001b[0m\n\u001b[0;32m--> 149\u001b[0;31m         \u001b[0mself\u001b[0m\u001b[0;34m.\u001b[0m\u001b[0mmodel\u001b[0m\u001b[0;34m.\u001b[0m\u001b[0mfit\u001b[0m\u001b[0;34m(\u001b[0m\u001b[0mnp\u001b[0m\u001b[0;34m.\u001b[0m\u001b[0marray\u001b[0m\u001b[0;34m(\u001b[0m\u001b[0mX\u001b[0m\u001b[0;34m)\u001b[0m\u001b[0;34m,\u001b[0m \u001b[0mnp\u001b[0m\u001b[0;34m.\u001b[0m\u001b[0marray\u001b[0m\u001b[0;34m(\u001b[0m\u001b[0mY\u001b[0m\u001b[0;34m)\u001b[0m\u001b[0;34m,\u001b[0m \u001b[0mbatch_size\u001b[0m \u001b[0;34m=\u001b[0m \u001b[0mself\u001b[0m\u001b[0;34m.\u001b[0m\u001b[0mbatch_size\u001b[0m\u001b[0;34m,\u001b[0m \u001b[0mverbose\u001b[0m\u001b[0;34m=\u001b[0m\u001b[0;32mFalse\u001b[0m\u001b[0;34m)\u001b[0m\u001b[0;34m\u001b[0m\u001b[0;34m\u001b[0m\u001b[0m\n\u001b[0m\u001b[1;32m    150\u001b[0m \u001b[0;34m\u001b[0m\u001b[0m\n\u001b[1;32m    151\u001b[0m         \u001b[0mself\u001b[0m\u001b[0;34m.\u001b[0m\u001b[0mtarget_update\u001b[0m \u001b[0;34m+=\u001b[0m \u001b[0;36m1\u001b[0m\u001b[0;34m\u001b[0m\u001b[0;34m\u001b[0m\u001b[0m\n",
            "\u001b[0;32m/usr/local/lib/python3.7/dist-packages/tensorflow/python/keras/engine/training.py\u001b[0m in \u001b[0;36mfit\u001b[0;34m(self, x, y, batch_size, epochs, verbose, callbacks, validation_split, validation_data, shuffle, class_weight, sample_weight, initial_epoch, steps_per_epoch, validation_steps, validation_batch_size, validation_freq, max_queue_size, workers, use_multiprocessing)\u001b[0m\n\u001b[1;32m   1169\u001b[0m           self._maybe_load_initial_epoch_from_ckpt(initial_epoch))\n\u001b[1;32m   1170\u001b[0m       \u001b[0mlogs\u001b[0m \u001b[0;34m=\u001b[0m \u001b[0;32mNone\u001b[0m\u001b[0;34m\u001b[0m\u001b[0;34m\u001b[0m\u001b[0m\n\u001b[0;32m-> 1171\u001b[0;31m       \u001b[0;32mfor\u001b[0m \u001b[0mepoch\u001b[0m\u001b[0;34m,\u001b[0m \u001b[0miterator\u001b[0m \u001b[0;32min\u001b[0m \u001b[0mdata_handler\u001b[0m\u001b[0;34m.\u001b[0m\u001b[0menumerate_epochs\u001b[0m\u001b[0;34m(\u001b[0m\u001b[0;34m)\u001b[0m\u001b[0;34m:\u001b[0m\u001b[0;34m\u001b[0m\u001b[0;34m\u001b[0m\u001b[0m\n\u001b[0m\u001b[1;32m   1172\u001b[0m         \u001b[0mself\u001b[0m\u001b[0;34m.\u001b[0m\u001b[0mreset_metrics\u001b[0m\u001b[0;34m(\u001b[0m\u001b[0;34m)\u001b[0m\u001b[0;34m\u001b[0m\u001b[0;34m\u001b[0m\u001b[0m\n\u001b[1;32m   1173\u001b[0m         \u001b[0mcallbacks\u001b[0m\u001b[0;34m.\u001b[0m\u001b[0mon_epoch_begin\u001b[0m\u001b[0;34m(\u001b[0m\u001b[0mepoch\u001b[0m\u001b[0;34m)\u001b[0m\u001b[0;34m\u001b[0m\u001b[0;34m\u001b[0m\u001b[0m\n",
            "\u001b[0;32m/usr/local/lib/python3.7/dist-packages/tensorflow/python/keras/engine/data_adapter.py\u001b[0m in \u001b[0;36menumerate_epochs\u001b[0;34m(self)\u001b[0m\n\u001b[1;32m   1197\u001b[0m     \u001b[0;34m\"\"\"Yields `(epoch, tf.data.Iterator)`.\"\"\"\u001b[0m\u001b[0;34m\u001b[0m\u001b[0;34m\u001b[0m\u001b[0m\n\u001b[1;32m   1198\u001b[0m     \u001b[0;32mwith\u001b[0m \u001b[0mself\u001b[0m\u001b[0;34m.\u001b[0m\u001b[0m_truncate_execution_to_epoch\u001b[0m\u001b[0;34m(\u001b[0m\u001b[0;34m)\u001b[0m\u001b[0;34m:\u001b[0m\u001b[0;34m\u001b[0m\u001b[0;34m\u001b[0m\u001b[0m\n\u001b[0;32m-> 1199\u001b[0;31m       \u001b[0mdata_iterator\u001b[0m \u001b[0;34m=\u001b[0m \u001b[0miter\u001b[0m\u001b[0;34m(\u001b[0m\u001b[0mself\u001b[0m\u001b[0;34m.\u001b[0m\u001b[0m_dataset\u001b[0m\u001b[0;34m)\u001b[0m\u001b[0;34m\u001b[0m\u001b[0;34m\u001b[0m\u001b[0m\n\u001b[0m\u001b[1;32m   1200\u001b[0m       \u001b[0;32mfor\u001b[0m \u001b[0mepoch\u001b[0m \u001b[0;32min\u001b[0m \u001b[0mrange\u001b[0m\u001b[0;34m(\u001b[0m\u001b[0mself\u001b[0m\u001b[0;34m.\u001b[0m\u001b[0m_initial_epoch\u001b[0m\u001b[0;34m,\u001b[0m \u001b[0mself\u001b[0m\u001b[0;34m.\u001b[0m\u001b[0m_epochs\u001b[0m\u001b[0;34m)\u001b[0m\u001b[0;34m:\u001b[0m\u001b[0;34m\u001b[0m\u001b[0;34m\u001b[0m\u001b[0m\n\u001b[1;32m   1201\u001b[0m         \u001b[0;32mif\u001b[0m \u001b[0mself\u001b[0m\u001b[0;34m.\u001b[0m\u001b[0m_insufficient_data\u001b[0m\u001b[0;34m:\u001b[0m  \u001b[0;31m# Set by `catch_stop_iteration`.\u001b[0m\u001b[0;34m\u001b[0m\u001b[0;34m\u001b[0m\u001b[0m\n",
            "\u001b[0;32m/usr/local/lib/python3.7/dist-packages/tensorflow/python/data/ops/dataset_ops.py\u001b[0m in \u001b[0;36m__iter__\u001b[0;34m(self)\u001b[0m\n\u001b[1;32m    484\u001b[0m     \u001b[0;32mif\u001b[0m \u001b[0mcontext\u001b[0m\u001b[0;34m.\u001b[0m\u001b[0mexecuting_eagerly\u001b[0m\u001b[0;34m(\u001b[0m\u001b[0;34m)\u001b[0m \u001b[0;32mor\u001b[0m \u001b[0mops\u001b[0m\u001b[0;34m.\u001b[0m\u001b[0minside_function\u001b[0m\u001b[0;34m(\u001b[0m\u001b[0;34m)\u001b[0m\u001b[0;34m:\u001b[0m\u001b[0;34m\u001b[0m\u001b[0;34m\u001b[0m\u001b[0m\n\u001b[1;32m    485\u001b[0m       \u001b[0;32mwith\u001b[0m \u001b[0mops\u001b[0m\u001b[0;34m.\u001b[0m\u001b[0mcolocate_with\u001b[0m\u001b[0;34m(\u001b[0m\u001b[0mself\u001b[0m\u001b[0;34m.\u001b[0m\u001b[0m_variant_tensor\u001b[0m\u001b[0;34m)\u001b[0m\u001b[0;34m:\u001b[0m\u001b[0;34m\u001b[0m\u001b[0;34m\u001b[0m\u001b[0m\n\u001b[0;32m--> 486\u001b[0;31m         \u001b[0;32mreturn\u001b[0m \u001b[0miterator_ops\u001b[0m\u001b[0;34m.\u001b[0m\u001b[0mOwnedIterator\u001b[0m\u001b[0;34m(\u001b[0m\u001b[0mself\u001b[0m\u001b[0;34m)\u001b[0m\u001b[0;34m\u001b[0m\u001b[0;34m\u001b[0m\u001b[0m\n\u001b[0m\u001b[1;32m    487\u001b[0m     \u001b[0;32melse\u001b[0m\u001b[0;34m:\u001b[0m\u001b[0;34m\u001b[0m\u001b[0;34m\u001b[0m\u001b[0m\n\u001b[1;32m    488\u001b[0m       raise RuntimeError(\"__iter__() is only supported inside of tf.function \"\n",
            "\u001b[0;32m/usr/local/lib/python3.7/dist-packages/tensorflow/python/data/ops/iterator_ops.py\u001b[0m in \u001b[0;36m__init__\u001b[0;34m(self, dataset, components, element_spec)\u001b[0m\n\u001b[1;32m    694\u001b[0m       \u001b[0;32mif\u001b[0m \u001b[0;34m(\u001b[0m\u001b[0mcomponents\u001b[0m \u001b[0;32mis\u001b[0m \u001b[0;32mnot\u001b[0m \u001b[0;32mNone\u001b[0m \u001b[0;32mor\u001b[0m \u001b[0melement_spec\u001b[0m \u001b[0;32mis\u001b[0m \u001b[0;32mnot\u001b[0m \u001b[0;32mNone\u001b[0m\u001b[0;34m)\u001b[0m\u001b[0;34m:\u001b[0m\u001b[0;34m\u001b[0m\u001b[0;34m\u001b[0m\u001b[0m\n\u001b[1;32m    695\u001b[0m         \u001b[0;32mraise\u001b[0m \u001b[0mValueError\u001b[0m\u001b[0;34m(\u001b[0m\u001b[0merror_message\u001b[0m\u001b[0;34m)\u001b[0m\u001b[0;34m\u001b[0m\u001b[0;34m\u001b[0m\u001b[0m\n\u001b[0;32m--> 696\u001b[0;31m       \u001b[0mself\u001b[0m\u001b[0;34m.\u001b[0m\u001b[0m_create_iterator\u001b[0m\u001b[0;34m(\u001b[0m\u001b[0mdataset\u001b[0m\u001b[0;34m)\u001b[0m\u001b[0;34m\u001b[0m\u001b[0;34m\u001b[0m\u001b[0m\n\u001b[0m\u001b[1;32m    697\u001b[0m \u001b[0;34m\u001b[0m\u001b[0m\n\u001b[1;32m    698\u001b[0m   \u001b[0;32mdef\u001b[0m \u001b[0m_create_iterator\u001b[0m\u001b[0;34m(\u001b[0m\u001b[0mself\u001b[0m\u001b[0;34m,\u001b[0m \u001b[0mdataset\u001b[0m\u001b[0;34m)\u001b[0m\u001b[0;34m:\u001b[0m\u001b[0;34m\u001b[0m\u001b[0;34m\u001b[0m\u001b[0m\n",
            "\u001b[0;32m/usr/local/lib/python3.7/dist-packages/tensorflow/python/data/ops/iterator_ops.py\u001b[0m in \u001b[0;36m_create_iterator\u001b[0;34m(self, dataset)\u001b[0m\n\u001b[1;32m    717\u001b[0m               \u001b[0moutput_types\u001b[0m\u001b[0;34m=\u001b[0m\u001b[0mself\u001b[0m\u001b[0;34m.\u001b[0m\u001b[0m_flat_output_types\u001b[0m\u001b[0;34m,\u001b[0m\u001b[0;34m\u001b[0m\u001b[0;34m\u001b[0m\u001b[0m\n\u001b[1;32m    718\u001b[0m               output_shapes=self._flat_output_shapes))\n\u001b[0;32m--> 719\u001b[0;31m       \u001b[0mgen_dataset_ops\u001b[0m\u001b[0;34m.\u001b[0m\u001b[0mmake_iterator\u001b[0m\u001b[0;34m(\u001b[0m\u001b[0mds_variant\u001b[0m\u001b[0;34m,\u001b[0m \u001b[0mself\u001b[0m\u001b[0;34m.\u001b[0m\u001b[0m_iterator_resource\u001b[0m\u001b[0;34m)\u001b[0m\u001b[0;34m\u001b[0m\u001b[0;34m\u001b[0m\u001b[0m\n\u001b[0m\u001b[1;32m    720\u001b[0m       \u001b[0;31m# Delete the resource when this object is deleted\u001b[0m\u001b[0;34m\u001b[0m\u001b[0;34m\u001b[0m\u001b[0;34m\u001b[0m\u001b[0m\n\u001b[1;32m    721\u001b[0m       self._resource_deleter = IteratorResourceDeleter(\n",
            "\u001b[0;32m/usr/local/lib/python3.7/dist-packages/tensorflow/python/ops/gen_dataset_ops.py\u001b[0m in \u001b[0;36mmake_iterator\u001b[0;34m(dataset, iterator, name)\u001b[0m\n\u001b[1;32m   3119\u001b[0m     \u001b[0;32mtry\u001b[0m\u001b[0;34m:\u001b[0m\u001b[0;34m\u001b[0m\u001b[0;34m\u001b[0m\u001b[0m\n\u001b[1;32m   3120\u001b[0m       _result = pywrap_tfe.TFE_Py_FastPathExecute(\n\u001b[0;32m-> 3121\u001b[0;31m         _ctx, \"MakeIterator\", name, dataset, iterator)\n\u001b[0m\u001b[1;32m   3122\u001b[0m       \u001b[0;32mreturn\u001b[0m \u001b[0m_result\u001b[0m\u001b[0;34m\u001b[0m\u001b[0;34m\u001b[0m\u001b[0m\n\u001b[1;32m   3123\u001b[0m     \u001b[0;32mexcept\u001b[0m \u001b[0m_core\u001b[0m\u001b[0;34m.\u001b[0m\u001b[0m_NotOkStatusException\u001b[0m \u001b[0;32mas\u001b[0m \u001b[0me\u001b[0m\u001b[0;34m:\u001b[0m\u001b[0;34m\u001b[0m\u001b[0;34m\u001b[0m\u001b[0m\n",
            "\u001b[0;31mKeyboardInterrupt\u001b[0m: "
          ]
        }
      ]
    },
    {
      "cell_type": "markdown",
      "metadata": {
        "id": "8d6d8721-4b9c-428d-9bb9-f65f4fe27303"
      },
      "source": [
        "## Testing and Plotting the data"
      ],
      "id": "8d6d8721-4b9c-428d-9bb9-f65f4fe27303"
    },
    {
      "cell_type": "code",
      "metadata": {
        "colab": {
          "base_uri": "https://localhost:8080/",
          "height": 1000
        },
        "id": "c707d8dc-36bc-4250-a152-eb4db6a57aa4",
        "outputId": "b849fe07-4a68-4e67-a601-e6f244194845"
      },
      "source": [
        "agent.money = INITIAL_CAPITAL\n",
        "\n",
        "agent.inventory.clear()\n",
        "agent.epsilon = 0\n",
        "\n",
        "tests = np.array(test_bajajfinsv[features])\n",
        "\n",
        "prices = np.array(test_bajajfinsv[predict])\n",
        "\n",
        "action_list.clear()\n",
        "\n",
        "for id in range(0, len(tests)):\n",
        "    \n",
        "    curr_state = np.append(tests[id], [len(agent.inventory), agent.money])\n",
        "    action = agent.action(curr_state.reshape(-1, agent.state_size))\n",
        "    \n",
        "    if (action == 0):\n",
        "        reward  = agent.buy(curr_state)\n",
        "        \n",
        "    elif (action == 1):\n",
        "        reward = agent.sell(curr_state)\n",
        "    \n",
        "    else:\n",
        "        reward = agent.hold(curr_state)\n",
        "        \n",
        "    action_list.append(action)\n",
        "\n",
        "    \n",
        "#     print(action)\n",
        "    if (id % 15 == 0):\n",
        "        print(\"Profit % = \" + str((agent.money - INITIAL_CAPITAL) / INITIAL_CAPITAL * 100))\n",
        "    \n",
        "\n",
        "plt.figure(figsize=(10,10))\n",
        "plt.scatter(test_maruti['Date'], prices, color = [code[i] for i in action_list])\n",
        "plt.show()    \n",
        "\n"
      ],
      "id": "c707d8dc-36bc-4250-a152-eb4db6a57aa4",
      "execution_count": null,
      "outputs": [
        {
          "output_type": "stream",
          "text": [
            "Profit % = 0.0\n",
            "Profit % = 0.0\n",
            "Profit % = 0.0\n",
            "Profit % = 0.0\n",
            "Profit % = 0.0\n",
            "Profit % = 0.0\n",
            "Profit % = 0.0\n",
            "Profit % = 0.0\n",
            "Profit % = 0.0\n",
            "Profit % = 0.0\n",
            "Profit % = 0.0\n",
            "Profit % = 0.0\n",
            "Profit % = 0.0\n",
            "Profit % = 0.0\n",
            "Profit % = 0.0\n",
            "Profit % = 0.0\n",
            "Profit % = 0.0\n",
            "Profit % = 0.0\n",
            "Profit % = 0.0\n",
            "Profit % = 0.0\n",
            "Profit % = 0.0\n",
            "Profit % = 0.0\n",
            "Profit % = 0.0\n",
            "Profit % = 0.0\n",
            "Profit % = 0.0\n",
            "Profit % = 0.0\n",
            "Profit % = 0.0\n",
            "Profit % = 0.0\n",
            "Profit % = 0.0\n",
            "Profit % = 0.0\n",
            "Profit % = 0.0\n",
            "Profit % = 0.0\n",
            "Profit % = 0.0\n",
            "Profit % = 0.0\n",
            "Profit % = 0.0\n",
            "Profit % = 0.0\n",
            "Profit % = 0.0\n",
            "Profit % = 0.0\n",
            "Profit % = 0.0\n",
            "Profit % = 0.0\n",
            "Profit % = 0.0\n",
            "Profit % = 0.0\n"
          ],
          "name": "stdout"
        },
        {
          "output_type": "display_data",
          "data": {
            "image/png": "[encoded data removed]",
            "text/plain": [
              "<Figure size 720x720 with 1 Axes>"
            ]
          },
          "metadata": {
            "tags": [],
            "needs_background": "light"
          }
        }
      ]
    },
    {
      "cell_type": "code",
      "metadata": {
        "colab": {
          "base_uri": "https://localhost:8080/"
        },
        "id": "4dd83b9d-7825-46a1-a722-77d049d98da3",
        "outputId": "d7dad73b-55c5-4b97-e3a7-0dea46cb0d26"
      },
      "source": [
        "agent.money"
      ],
      "id": "4dd83b9d-7825-46a1-a722-77d049d98da3",
      "execution_count": null,
      "outputs": [
        {
          "output_type": "execute_result",
          "data": {
            "text/plain": [
              "1000000"
            ]
          },
          "metadata": {
            "tags": []
          },
          "execution_count": 10
        }
      ]
    },
    {
      "cell_type": "code",
      "metadata": {
        "id": "d9909a87-1dc1-4651-bef9-4c37668f7fd4"
      },
      "source": [
        ""
      ],
      "id": "d9909a87-1dc1-4651-bef9-4c37668f7fd4",
      "execution_count": null,
      "outputs": []
    }
  ]
}